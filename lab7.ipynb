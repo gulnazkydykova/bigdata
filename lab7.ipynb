{
 "cells": [
  {
   "cell_type": "markdown",
   "source": [
    "# Ногорбеков Салим WIN-1-21 #\n",
    "## LAB - 7 ##"
   ],
   "metadata": {
    "collapsed": false,
    "pycharm": {
     "name": "#%% md\n"
    }
   }
  },
  {
   "cell_type": "code",
   "execution_count": 2,
   "id": "4f4e9c2b-9868-4329-a870-ebf1a4c367b0",
   "metadata": {
    "tags": [],
    "ExecuteTime": {
     "end_time": "2023-12-09T22:22:10.045054700Z",
     "start_time": "2023-12-09T22:22:09.935696400Z"
    },
    "pycharm": {
     "name": "#%%\n"
    }
   },
   "outputs": [],
   "source": [
    "from sklearn.datasets import load_files\n",
    "from sklearn.feature_extraction.text import CountVectorizer, TfidfVectorizer\n",
    "from sklearn.pipeline import make_pipeline\n",
    "from sklearn.linear_model import LogisticRegression\n",
    "from sklearn.model_selection import GridSearchCV\n",
    "from sklearn.metrics import classification_report\n",
    "from sklearn.feature_extraction.text import ENGLISH_STOP_WORDS\n",
    "\n",
    "import numpy as np\n",
    "import pandas as pd\n",
    "import matplotlib.pyplot as plt\n",
    "import seaborn as sns"
   ]
  },
  {
   "cell_type": "markdown",
   "id": "08c1214e-b520-44fa-bbbd-faef4bf3d343",
   "metadata": {
    "pycharm": {
     "name": "#%% md\n"
    }
   },
   "source": [
    "<h3>Задание №2</h3>"
   ]
  },
  {
   "cell_type": "markdown",
   "id": "31e2db89-8dd8-4dc3-8b79-b1b4b66624b3",
   "metadata": {
    "pycharm": {
     "name": "#%% md\n"
    }
   },
   "source": [
    "<h4> Создаем свой «мешок слов», набор из 30 отзывов о фильме \"Хроники Нарнии\". Все отзывы исключительно на английском языке, по 10 негативных и позитивный в train, а также по 5 негативных и положительных отзывов в test. </h4>"
   ]
  },
  {
   "cell_type": "code",
   "execution_count": 3,
   "id": "b7dadca6-1783-453d-a24d-d428545f88ec",
   "metadata": {
    "tags": [],
    "ExecuteTime": {
     "end_time": "2023-12-09T22:22:10.170017300Z",
     "start_time": "2023-12-09T22:22:09.935696400Z"
    },
    "pycharm": {
     "name": "#%%\n"
    }
   },
   "outputs": [],
   "source": [
    "reviews_train_eng = load_files('reviews/train/')\n",
    "reviews_test_eng = load_files('reviews/test/')\n",
    "\n",
    "\n",
    "text_train_eng = [item.decode('utf-8') for item in reviews_train_eng.data]\n",
    "y_train_eng = reviews_train_eng.target\n",
    "\n",
    "text_test_eng = [item.decode('utf-8') for item in reviews_test_eng.data]\n",
    "y_test_eng = reviews_test_eng.target"
   ]
  },
  {
   "cell_type": "markdown",
   "id": "c0764111-43db-46e6-9609-68504a6d94a5",
   "metadata": {
    "pycharm": {
     "name": "#%% md\n"
    }
   },
   "source": [
    "<h4> Создаем список стоп-слов и преобразуем обучающие текстовые данные в матрицу документ-термин"
   ]
  },
  {
   "cell_type": "code",
   "execution_count": 4,
   "id": "19657843-fe1c-43c9-ab1f-87252b9d9a7b",
   "metadata": {
    "tags": [],
    "ExecuteTime": {
     "end_time": "2023-12-09T22:22:10.185637600Z",
     "start_time": "2023-12-09T22:22:09.966966100Z"
    },
    "pycharm": {
     "name": "#%%\n"
    }
   },
   "outputs": [],
   "source": [
    "stop_words = list(ENGLISH_STOP_WORDS)\n",
    "count_vectorizer_eng = CountVectorizer(stop_words=stop_words)\n",
    "X_train_eng = count_vectorizer_eng.fit_transform(text_train_eng)"
   ]
  },
  {
   "cell_type": "markdown",
   "id": "13a540d7-b975-4623-bee1-bcb73c137565",
   "metadata": {
    "tags": [],
    "pycharm": {
     "name": "#%% md\n"
    }
   },
   "source": [
    "<h4>Размерность мешка слов</h4>"
   ]
  },
  {
   "cell_type": "code",
   "execution_count": 5,
   "id": "e8720032-7df9-4d66-a5b7-9ac9377ebc82",
   "metadata": {
    "tags": [],
    "ExecuteTime": {
     "end_time": "2023-12-09T22:22:10.185637600Z",
     "start_time": "2023-12-09T22:22:09.982561Z"
    },
    "pycharm": {
     "name": "#%%\n"
    }
   },
   "outputs": [
    {
     "name": "stdout",
     "output_type": "stream",
     "text": [
      "(20, 984)\n"
     ]
    }
   ],
   "source": [
    "print('{}'.format(X_train_eng.shape))"
   ]
  },
  {
   "cell_type": "markdown",
   "id": "eab9e30c-d317-4f51-9f88-cc3b5f673d88",
   "metadata": {
    "pycharm": {
     "name": "#%% md\n"
    }
   },
   "source": [
    "<h4>Исследуем признаки</h4>"
   ]
  },
  {
   "cell_type": "code",
   "execution_count": 35,
   "id": "2e8e6a97-3f90-410c-975a-e37f7e22bad2",
   "metadata": {
    "tags": [],
    "ExecuteTime": {
     "end_time": "2023-12-09T22:22:10.201260200Z",
     "start_time": "2023-12-09T22:22:09.998214300Z"
    },
    "pycharm": {
     "name": "#%%\n"
    }
   },
   "outputs": [],
   "source": [
    "feature_names_eng = count_vectorizer_eng.get_feature_names_out()"
   ]
  },
  {
   "cell_type": "markdown",
   "id": "eea5402f-c290-44da-96c9-25005880523a",
   "metadata": {
    "tags": [],
    "pycharm": {
     "name": "#%% md\n"
    }
   },
   "source": [
    "<h4>Выведем первые 10 признаков</h4>"
   ]
  },
  {
   "cell_type": "code",
   "execution_count": 36,
   "id": "ef9ebc31-73ad-4fbd-a3a6-7a55cf6ef4f5",
   "metadata": {
    "tags": [],
    "ExecuteTime": {
     "end_time": "2023-12-09T22:22:10.216898300Z",
     "start_time": "2023-12-09T22:22:10.013803800Z"
    },
    "pycharm": {
     "name": "#%%\n"
    }
   },
   "outputs": [
    {
     "name": "stdout",
     "output_type": "stream",
     "text": [
      "['11' '2000s' '2005' '26' '35' '38' '55' 'absolutely' 'accompanied'\n",
      " 'acting']\n"
     ]
    }
   ],
   "source": [
    "print(feature_names_eng[:10])"
   ]
  },
  {
   "cell_type": "markdown",
   "id": "ddea32ae-db2d-40da-8c0d-16961737a3e8",
   "metadata": {
    "tags": [],
    "pycharm": {
     "name": "#%% md\n"
    }
   },
   "source": [
    "<h4>Выведем последние 10 признаков</h4>"
   ]
  },
  {
   "cell_type": "code",
   "execution_count": 37,
   "id": "e4d53feb-5769-4103-8db5-7a0d75db80d8",
   "metadata": {
    "tags": [],
    "ExecuteTime": {
     "end_time": "2023-12-09T22:22:10.216898300Z",
     "start_time": "2023-12-09T22:22:10.029425Z"
    },
    "pycharm": {
     "name": "#%%\n"
    }
   },
   "outputs": [
    {
     "name": "stdout",
     "output_type": "stream",
     "text": [
      "['worth' 'written' 'wrote' 'ww' 'wwii' 'year' 'young' 'younger' 'youngest'\n",
      " 'zinger']\n"
     ]
    }
   ],
   "source": [
    "print(feature_names_eng[-10:])"
   ]
  },
  {
   "cell_type": "markdown",
   "id": "a9ef22c3-cb4e-450e-a4cc-185d30a1cd2a",
   "metadata": {
    "pycharm": {
     "name": "#%% md\n"
    }
   },
   "source": [
    "<h3>Задание №3</h3>"
   ]
  },
  {
   "cell_type": "markdown",
   "id": "9dd2bf8a-1465-46ce-b961-b7ee2b923a4a",
   "metadata": {
    "pycharm": {
     "name": "#%% md\n"
    }
   },
   "source": [
    "<h4>Создаем словарь стоп-слов и применяем к своему «мешку слов»"
   ]
  },
  {
   "cell_type": "code",
   "execution_count": 6,
   "id": "f3bd02f6-158e-46bc-82cf-7601c4955a98",
   "metadata": {
    "tags": [],
    "ExecuteTime": {
     "end_time": "2023-12-09T22:22:10.685520800Z",
     "start_time": "2023-12-09T22:22:10.045054700Z"
    },
    "pycharm": {
     "name": "#%%\n"
    }
   },
   "outputs": [
    {
     "name": "stdout",
     "output_type": "stream",
     "text": [
      "Размерность мешка слов: (20, 984)\n"
     ]
    }
   ],
   "source": [
    "count_vectorizer_eng = CountVectorizer(stop_words='english')\n",
    "count_vectorizer_eng.fit(text_train_eng)\n",
    "\n",
    "X_train_eng = count_vectorizer_eng.transform(text_train_eng)\n",
    "\n",
    "print('Размерность мешка слов: {}'.format(X_train_eng.shape))"
   ]
  },
  {
   "cell_type": "markdown",
   "id": "76e9c857-d692-40c9-9d54-a182c304f896",
   "metadata": {
    "pycharm": {
     "name": "#%% md\n"
    }
   },
   "source": [
    "<h3>Задание №4</h3>"
   ]
  },
  {
   "cell_type": "markdown",
   "id": "34d14157-7f40-4aff-a7a1-a0dc4c55053b",
   "metadata": {
    "pycharm": {
     "name": "#%% md\n"
    }
   },
   "source": [
    "<h4> Масштабируем данные с помощью tf-idf"
   ]
  },
  {
   "cell_type": "code",
   "execution_count": 39,
   "id": "13db6b62-4efd-4d9f-929c-52e41287f85e",
   "metadata": {
    "tags": [],
    "ExecuteTime": {
     "end_time": "2023-12-09T22:23:59.997313600Z",
     "start_time": "2023-12-09T22:22:10.076289Z"
    },
    "pycharm": {
     "name": "#%%\n"
    }
   },
   "outputs": [
    {
     "data": {
      "text/plain": "GridSearchCV(cv=4,\n             estimator=Pipeline(steps=[('tfidfvectorizer',\n                                        TfidfVectorizer(norm=None)),\n                                       ('logisticregression',\n                                        LogisticRegression())]),\n             param_grid={'logisticregression__C': [0.001, 0.01, 0.1, 1.0, 10.0,\n                                                   100.0],\n                         'logisticregression__max_iter': [10000, 20000, 30000],\n                         'logisticregression__penalty': ['l1', 'l2'],\n                         'logisticregression__solver': ['liblinear', 'saga'],\n                         'tfidfvectorizer__ngram_range': [(1, 1), (1, 2),\n                                                          (1, 3)]})",
      "text/html": "<style>#sk-container-id-3 {color: black;}#sk-container-id-3 pre{padding: 0;}#sk-container-id-3 div.sk-toggleable {background-color: white;}#sk-container-id-3 label.sk-toggleable__label {cursor: pointer;display: block;width: 100%;margin-bottom: 0;padding: 0.3em;box-sizing: border-box;text-align: center;}#sk-container-id-3 label.sk-toggleable__label-arrow:before {content: \"▸\";float: left;margin-right: 0.25em;color: #696969;}#sk-container-id-3 label.sk-toggleable__label-arrow:hover:before {color: black;}#sk-container-id-3 div.sk-estimator:hover label.sk-toggleable__label-arrow:before {color: black;}#sk-container-id-3 div.sk-toggleable__content {max-height: 0;max-width: 0;overflow: hidden;text-align: left;background-color: #f0f8ff;}#sk-container-id-3 div.sk-toggleable__content pre {margin: 0.2em;color: black;border-radius: 0.25em;background-color: #f0f8ff;}#sk-container-id-3 input.sk-toggleable__control:checked~div.sk-toggleable__content {max-height: 200px;max-width: 100%;overflow: auto;}#sk-container-id-3 input.sk-toggleable__control:checked~label.sk-toggleable__label-arrow:before {content: \"▾\";}#sk-container-id-3 div.sk-estimator input.sk-toggleable__control:checked~label.sk-toggleable__label {background-color: #d4ebff;}#sk-container-id-3 div.sk-label input.sk-toggleable__control:checked~label.sk-toggleable__label {background-color: #d4ebff;}#sk-container-id-3 input.sk-hidden--visually {border: 0;clip: rect(1px 1px 1px 1px);clip: rect(1px, 1px, 1px, 1px);height: 1px;margin: -1px;overflow: hidden;padding: 0;position: absolute;width: 1px;}#sk-container-id-3 div.sk-estimator {font-family: monospace;background-color: #f0f8ff;border: 1px dotted black;border-radius: 0.25em;box-sizing: border-box;margin-bottom: 0.5em;}#sk-container-id-3 div.sk-estimator:hover {background-color: #d4ebff;}#sk-container-id-3 div.sk-parallel-item::after {content: \"\";width: 100%;border-bottom: 1px solid gray;flex-grow: 1;}#sk-container-id-3 div.sk-label:hover label.sk-toggleable__label {background-color: #d4ebff;}#sk-container-id-3 div.sk-serial::before {content: \"\";position: absolute;border-left: 1px solid gray;box-sizing: border-box;top: 0;bottom: 0;left: 50%;z-index: 0;}#sk-container-id-3 div.sk-serial {display: flex;flex-direction: column;align-items: center;background-color: white;padding-right: 0.2em;padding-left: 0.2em;position: relative;}#sk-container-id-3 div.sk-item {position: relative;z-index: 1;}#sk-container-id-3 div.sk-parallel {display: flex;align-items: stretch;justify-content: center;background-color: white;position: relative;}#sk-container-id-3 div.sk-item::before, #sk-container-id-3 div.sk-parallel-item::before {content: \"\";position: absolute;border-left: 1px solid gray;box-sizing: border-box;top: 0;bottom: 0;left: 50%;z-index: -1;}#sk-container-id-3 div.sk-parallel-item {display: flex;flex-direction: column;z-index: 1;position: relative;background-color: white;}#sk-container-id-3 div.sk-parallel-item:first-child::after {align-self: flex-end;width: 50%;}#sk-container-id-3 div.sk-parallel-item:last-child::after {align-self: flex-start;width: 50%;}#sk-container-id-3 div.sk-parallel-item:only-child::after {width: 0;}#sk-container-id-3 div.sk-dashed-wrapped {border: 1px dashed gray;margin: 0 0.4em 0.5em 0.4em;box-sizing: border-box;padding-bottom: 0.4em;background-color: white;}#sk-container-id-3 div.sk-label label {font-family: monospace;font-weight: bold;display: inline-block;line-height: 1.2em;}#sk-container-id-3 div.sk-label-container {text-align: center;}#sk-container-id-3 div.sk-container {/* jupyter's `normalize.less` sets `[hidden] { display: none; }` but bootstrap.min.css set `[hidden] { display: none !important; }` so we also need the `!important` here to be able to override the default hidden behavior on the sphinx rendered scikit-learn.org. See: https://github.com/scikit-learn/scikit-learn/issues/21755 */display: inline-block !important;position: relative;}#sk-container-id-3 div.sk-text-repr-fallback {display: none;}</style><div id=\"sk-container-id-3\" class=\"sk-top-container\"><div class=\"sk-text-repr-fallback\"><pre>GridSearchCV(cv=4,\n             estimator=Pipeline(steps=[(&#x27;tfidfvectorizer&#x27;,\n                                        TfidfVectorizer(norm=None)),\n                                       (&#x27;logisticregression&#x27;,\n                                        LogisticRegression())]),\n             param_grid={&#x27;logisticregression__C&#x27;: [0.001, 0.01, 0.1, 1.0, 10.0,\n                                                   100.0],\n                         &#x27;logisticregression__max_iter&#x27;: [10000, 20000, 30000],\n                         &#x27;logisticregression__penalty&#x27;: [&#x27;l1&#x27;, &#x27;l2&#x27;],\n                         &#x27;logisticregression__solver&#x27;: [&#x27;liblinear&#x27;, &#x27;saga&#x27;],\n                         &#x27;tfidfvectorizer__ngram_range&#x27;: [(1, 1), (1, 2),\n                                                          (1, 3)]})</pre><b>In a Jupyter environment, please rerun this cell to show the HTML representation or trust the notebook. <br />On GitHub, the HTML representation is unable to render, please try loading this page with nbviewer.org.</b></div><div class=\"sk-container\" hidden><div class=\"sk-item sk-dashed-wrapped\"><div class=\"sk-label-container\"><div class=\"sk-label sk-toggleable\"><input class=\"sk-toggleable__control sk-hidden--visually\" id=\"sk-estimator-id-9\" type=\"checkbox\" ><label for=\"sk-estimator-id-9\" class=\"sk-toggleable__label sk-toggleable__label-arrow\">GridSearchCV</label><div class=\"sk-toggleable__content\"><pre>GridSearchCV(cv=4,\n             estimator=Pipeline(steps=[(&#x27;tfidfvectorizer&#x27;,\n                                        TfidfVectorizer(norm=None)),\n                                       (&#x27;logisticregression&#x27;,\n                                        LogisticRegression())]),\n             param_grid={&#x27;logisticregression__C&#x27;: [0.001, 0.01, 0.1, 1.0, 10.0,\n                                                   100.0],\n                         &#x27;logisticregression__max_iter&#x27;: [10000, 20000, 30000],\n                         &#x27;logisticregression__penalty&#x27;: [&#x27;l1&#x27;, &#x27;l2&#x27;],\n                         &#x27;logisticregression__solver&#x27;: [&#x27;liblinear&#x27;, &#x27;saga&#x27;],\n                         &#x27;tfidfvectorizer__ngram_range&#x27;: [(1, 1), (1, 2),\n                                                          (1, 3)]})</pre></div></div></div><div class=\"sk-parallel\"><div class=\"sk-parallel-item\"><div class=\"sk-item\"><div class=\"sk-label-container\"><div class=\"sk-label sk-toggleable\"><input class=\"sk-toggleable__control sk-hidden--visually\" id=\"sk-estimator-id-10\" type=\"checkbox\" ><label for=\"sk-estimator-id-10\" class=\"sk-toggleable__label sk-toggleable__label-arrow\">estimator: Pipeline</label><div class=\"sk-toggleable__content\"><pre>Pipeline(steps=[(&#x27;tfidfvectorizer&#x27;, TfidfVectorizer(norm=None)),\n                (&#x27;logisticregression&#x27;, LogisticRegression())])</pre></div></div></div><div class=\"sk-serial\"><div class=\"sk-item\"><div class=\"sk-serial\"><div class=\"sk-item\"><div class=\"sk-estimator sk-toggleable\"><input class=\"sk-toggleable__control sk-hidden--visually\" id=\"sk-estimator-id-11\" type=\"checkbox\" ><label for=\"sk-estimator-id-11\" class=\"sk-toggleable__label sk-toggleable__label-arrow\">TfidfVectorizer</label><div class=\"sk-toggleable__content\"><pre>TfidfVectorizer(norm=None)</pre></div></div></div><div class=\"sk-item\"><div class=\"sk-estimator sk-toggleable\"><input class=\"sk-toggleable__control sk-hidden--visually\" id=\"sk-estimator-id-12\" type=\"checkbox\" ><label for=\"sk-estimator-id-12\" class=\"sk-toggleable__label sk-toggleable__label-arrow\">LogisticRegression</label><div class=\"sk-toggleable__content\"><pre>LogisticRegression()</pre></div></div></div></div></div></div></div></div></div></div></div></div>"
     },
     "execution_count": 39,
     "metadata": {},
     "output_type": "execute_result"
    }
   ],
   "source": [
    "pipe = make_pipeline(TfidfVectorizer(norm=None), LogisticRegression())\n",
    "\n",
    "# Параметры для логистической регрессии\n",
    "param_grid = {\n",
    "    'logisticregression__C': [0.001, 0.01, 0.1, 1.0, 10.0, 100.0],\n",
    "    'logisticregression__penalty': ['l1', 'l2'],\n",
    "    'logisticregression__solver': ['liblinear', 'saga'],\n",
    "    'logisticregression__max_iter': [10000, 20000, 30000],\n",
    "    \n",
    "    'tfidfvectorizer__ngram_range': [(1, 1), (1, 2), (1, 3)]\n",
    "}\n",
    "\n",
    "grid_search_eng = GridSearchCV(pipe, param_grid, cv=4)\n",
    "grid_search_eng.fit(text_train_eng, y_train_eng)"
   ]
  },
  {
   "cell_type": "code",
   "execution_count": 41,
   "id": "2432fe73-af30-4ca0-8e93-620eb4fd8e52",
   "metadata": {
    "tags": [],
    "ExecuteTime": {
     "end_time": "2023-12-09T22:24:00.029115Z",
     "start_time": "2023-12-09T22:23:59.997313600Z"
    },
    "pycharm": {
     "name": "#%%\n"
    }
   },
   "outputs": [
    {
     "name": "stdout",
     "output_type": "stream",
     "text": [
      "Лучший результат: 0.8\n",
      "Лучшие параметры: {'logisticregression__C': 100.0, 'logisticregression__max_iter': 10000, 'logisticregression__penalty': 'l1', 'logisticregression__solver': 'liblinear', 'tfidfvectorizer__ngram_range': (1, 2)}\n"
     ]
    }
   ],
   "source": [
    "print('Лучший результат: {}'.format(grid_search_eng.best_score_))\n",
    "print('Лучшие параметры: {}'.format(grid_search_eng.best_params_))"
   ]
  },
  {
   "cell_type": "markdown",
   "id": "8dfcce26-49de-44cd-afa8-8a3269e17b77",
   "metadata": {
    "pycharm": {
     "name": "#%% md\n"
    }
   },
   "source": [
    "<h3>Задание №5</h3>"
   ]
  },
  {
   "cell_type": "markdown",
   "id": "2693c0ca-8321-4d75-b6b9-c360fc2ebc3c",
   "metadata": {
    "pycharm": {
     "name": "#%% md\n"
    }
   },
   "source": [
    "<h4> Исследуем коэффициенты модели"
   ]
  },
  {
   "cell_type": "markdown",
   "id": "7d5381ba-2755-4d9f-9e80-c996d0df2719",
   "metadata": {
    "tags": [],
    "pycharm": {
     "name": "#%% md\n"
    }
   },
   "source": [
    "<h4>Отобразим признаки с наименьшими коэффицентами</h4>"
   ]
  },
  {
   "cell_type": "code",
   "execution_count": 42,
   "id": "b0411f24-6c19-4a5f-bd77-6c0e0f06ac93",
   "metadata": {
    "tags": [],
    "ExecuteTime": {
     "end_time": "2023-12-09T22:24:00.079321300Z",
     "start_time": "2023-12-09T22:24:00.013460400Z"
    },
    "pycharm": {
     "name": "#%%\n"
    }
   },
   "outputs": [
    {
     "name": "stdout",
     "output_type": "stream",
     "text": [
      "                   Feature     Value\n",
      "3466                 using -0.242626\n",
      "1189                 films -0.244828\n",
      "1366                  good -0.266527\n",
      "1861                  less -0.273488\n",
      "2103     much disappointed -0.275388\n",
      "2256  old superimpositions -0.277886\n",
      "3692          yet cautious -0.308481\n",
      "2545                really -0.373003\n",
      "3237                though -0.384313\n",
      "3239            though the -0.499147\n",
      "2468                pretty -0.509811\n",
      "2653            scope gets -0.520339\n",
      "3691                   yet -0.528911\n",
      "3538                    we -0.555211\n",
      "622                    cgi -0.570250\n",
      "1086                  exit -0.578374\n",
      "3314            to suggest -0.579137\n",
      "2894               suggest -0.592786\n",
      "898                   does -0.740400\n",
      "1155                 feels -0.882727\n"
     ]
    }
   ],
   "source": [
    "tfidf_vectorizer = grid_search_eng.best_estimator_.named_steps['tfidfvectorizer']\n",
    "logistic_regression = grid_search_eng.best_estimator_.named_steps['logisticregression']\n",
    "\n",
    "feature_names = np.array(tfidf_vectorizer.get_feature_names_out())\n",
    "coefficients = logistic_regression.coef_.flatten()\n",
    "\n",
    "features_df = pd.DataFrame({'Feature': feature_names, 'Value': coefficients})\n",
    "\n",
    "print(features_df.sort_values(by='Value', ascending=False).tail(20))"
   ]
  },
  {
   "cell_type": "markdown",
   "id": "395d883f-f99e-4aec-a37b-5d7a4a83ed2b",
   "metadata": {
    "pycharm": {
     "name": "#%% md\n"
    }
   },
   "source": [
    "<h4>Отобразим признаки с наибольшими коэффицентами</h4>"
   ]
  },
  {
   "cell_type": "code",
   "execution_count": 43,
   "id": "54e019eb-4217-4037-972e-73d8c1f3166a",
   "metadata": {
    "ExecuteTime": {
     "end_time": "2023-12-09T22:24:00.081313300Z",
     "start_time": "2023-12-09T22:24:00.044705800Z"
    },
    "pycharm": {
     "name": "#%%\n"
    }
   },
   "outputs": [
    {
     "name": "stdout",
     "output_type": "stream",
     "text": [
      "                   Feature     Value\n",
      "445                    big  1.233087\n",
      "2231              of other  0.860190\n",
      "1914              literate  0.658392\n",
      "176           and literate  0.579835\n",
      "1276             franchise  0.560264\n",
      "2193          occasionally  0.510610\n",
      "116                     an  0.493639\n",
      "2349               package  0.468790\n",
      "2482     production values  0.435150\n",
      "1124               fantasy  0.325293\n",
      "3468                values  0.316754\n",
      "1011             enjoyable  0.300179\n",
      "447               big look  0.290433\n",
      "1367           good enough  0.240906\n",
      "904                  doesn  0.231817\n",
      "1988               manages  0.224601\n",
      "2302                 other  0.198157\n",
      "1729                 it is  0.178644\n",
      "1012  enjoyable adaptation  0.163159\n",
      "1247                for us  0.146737\n"
     ]
    }
   ],
   "source": [
    "tfidf_vectorizer = grid_search_eng.best_estimator_.named_steps['tfidfvectorizer']\n",
    "logistic_regression = grid_search_eng.best_estimator_.named_steps['logisticregression']\n",
    "\n",
    "feature_names = np.array(tfidf_vectorizer.get_feature_names_out())\n",
    "coefficients = logistic_regression.coef_.flatten()\n",
    "\n",
    "features_df = pd.DataFrame({'Feature': feature_names, 'Value': coefficients})\n",
    "\n",
    "print(features_df.sort_values(by='Value', ascending=False).head(20))"
   ]
  },
  {
   "cell_type": "markdown",
   "id": "157f26a0-2776-4669-be28-820705af49f9",
   "metadata": {
    "pycharm": {
     "name": "#%% md\n"
    }
   },
   "source": [
    "<h4>Создадим теплокарту для результатов поиска по сетке и усредненной правильности перекрестной проверки</h4>"
   ]
  },
  {
   "cell_type": "code",
   "execution_count": 46,
   "id": "b5687d0d-36dc-4f19-8c8f-3c1fbd7c7629",
   "metadata": {
    "tags": [],
    "ExecuteTime": {
     "end_time": "2023-12-09T22:24:00.572251900Z",
     "start_time": "2023-12-09T22:24:00.060327900Z"
    },
    "pycharm": {
     "name": "#%%\n"
    }
   },
   "outputs": [
    {
     "data": {
      "text/plain": "<Figure size 800x600 with 2 Axes>",
      "image/png": "[encoded data removed]"
     },
     "metadata": {},
     "output_type": "display_data"
    }
   ],
   "source": [
    "results_eng = pd.DataFrame(grid_search_eng.cv_results_)\n",
    "\n",
    "import seaborn as sns\n",
    "import matplotlib.pyplot as plt\n",
    "\n",
    "heatmap_data_eng = results_eng.pivot_table(index='param_tfidfvectorizer__ngram_range',\n",
    "                                           columns='param_logisticregression__C',\n",
    "                                           values='mean_test_score')\n",
    "\n",
    "plt.figure(figsize=(8, 6))\n",
    "sns.heatmap(heatmap_data_eng, annot=True, fmt=\".3f\", cmap=\"Blues\")\n",
    "plt.title('English reviews')\n",
    "plt.xlabel('C')\n",
    "plt.ylabel('ngram_range')\n",
    "\n",
    "plt.show()\n"
   ]
  },
  {
   "cell_type": "markdown",
   "id": "c8a435c6-62f2-4c9a-a12c-b6a4e82ff54f",
   "metadata": {
    "tags": [],
    "pycharm": {
     "name": "#%% md\n"
    }
   },
   "source": [
    "<h4>Отчет</h4>"
   ]
  },
  {
   "cell_type": "code",
   "execution_count": 45,
   "id": "58262b5d-0634-4321-aab8-89f18221e698",
   "metadata": {
    "tags": [],
    "ExecuteTime": {
     "end_time": "2023-12-09T22:24:00.665981100Z",
     "start_time": "2023-12-09T22:24:00.572251900Z"
    },
    "pycharm": {
     "name": "#%%\n"
    }
   },
   "outputs": [
    {
     "name": "stdout",
     "output_type": "stream",
     "text": [
      "              precision    recall  f1-score   support\n",
      "\n",
      "           0       0.67      0.67      0.67         3\n",
      "           1       0.75      0.75      0.75         4\n",
      "\n",
      "    accuracy                           0.71         7\n",
      "   macro avg       0.71      0.71      0.71         7\n",
      "weighted avg       0.71      0.71      0.71         7\n",
      "\n"
     ]
    }
   ],
   "source": [
    "prediction_eng = grid_search_eng.best_estimator_.predict(text_test_eng)\n",
    "\n",
    "print(classification_report(y_test_eng, prediction_eng, target_names=['0', '1']))"
   ]
  },
  {
   "cell_type": "markdown",
   "id": "8dcd1370-706b-4ad4-b46e-768ad2d02cc5",
   "metadata": {
    "pycharm": {
     "name": "#%% md\n"
    }
   },
   "source": [
    "<h3>Задание №6</h3>"
   ]
  },
  {
   "cell_type": "markdown",
   "id": "008e2550-b210-463a-9a75-69b8c63aa75a",
   "metadata": {
    "pycharm": {
     "name": "#%% md\n"
    }
   },
   "source": [
    "<h4> Вывод"
   ]
  },
  {
   "cell_type": "markdown",
   "id": "b68bd891-ddf1-47f6-86a8-bb6a185c58c0",
   "metadata": {
    "pycharm": {
     "name": "#%% md\n"
    }
   },
   "source": [
    "<p> Итак, отчет показал нам точность в 67% правильно угаданных отрицательных отзывов, а также в 75 % угаданных положительных. В целом модель показала хороший результат, вероятнее всего это связано с количеством отзывов, так как мы взяли 30, а некоторые отзывы содержали большое количество слов. Но если мы посмотрим на признаки наибольших коэффицентов, то увидим не совсем информативный список слов, по которым довольно сложно определить тип отзывов. Модель верно угадала 3 из 5 отрицательных отзывов и 4 из 5 положительных. И хоть результат вполне сносный его определенно можно улучшить посредством увеличения мешка слов и отзывов."
   ]
  }
 ],
 "metadata": {
  "kernelspec": {
   "display_name": "Python 3 (ipykernel)",
   "language": "python",
   "name": "python3"
  },
  "language_info": {
   "codemirror_mode": {
    "name": "ipython",
    "version": 3
   },
   "file_extension": ".py",
   "mimetype": "text/x-python",
   "name": "python",
   "nbconvert_exporter": "python",
   "pygments_lexer": "ipython3",
   "version": "3.11.4"
  }
 },
 "nbformat": 4,
 "nbformat_minor": 5
}
